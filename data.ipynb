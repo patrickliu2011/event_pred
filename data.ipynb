{
 "cells": [
  {
   "cell_type": "code",
   "execution_count": 1,
   "id": "e25d8634-ae09-4ac8-b414-b312d8fd1c29",
   "metadata": {},
   "outputs": [],
   "source": [
    "import os, sys\n",
    "import numpy as np\n",
    "import pandas as pd\n",
    "import matplotlib.pyplot as plt\n",
    "import torch\n",
    "from torch.utils.data import DataLoader\n",
    "import torchvision.transforms as transforms\n",
    "\n",
    "import rasterio"
   ]
  },
  {
   "cell_type": "code",
   "execution_count": 2,
   "id": "2c6a2791-742a-4be5-914c-4ffadbd0ffa3",
   "metadata": {},
   "outputs": [
    {
     "name": "stdout",
     "output_type": "stream",
     "text": [
      "Running on device: cpu\n"
     ]
    }
   ],
   "source": [
    "device = torch.device('cuda') if torch.cuda.is_available() else torch.device('cpu')\n",
    "print(f\"Running on device: {device}\")"
   ]
  },
  {
   "cell_type": "code",
   "execution_count": 3,
   "id": "8dc390ad-df83-4150-94e7-ab715ab5d80c",
   "metadata": {},
   "outputs": [],
   "source": [
    "csv_path = \"/atlas/u/erikrozi/housing_event_pred/data/train_seasonal_eff.csv\"\n",
    "root_dir = \"/atlas/u/pliu1/housing_event_pred/data/houses_new/\""
   ]
  },
  {
   "cell_type": "code",
   "execution_count": 57,
   "id": "fdd574ce-d6ec-4cbb-91bb-3dfedec94d2a",
   "metadata": {},
   "outputs": [
    {
     "data": {
      "text/html": [
       "<div>\n",
       "<style scoped>\n",
       "    .dataframe tbody tr th:only-of-type {\n",
       "        vertical-align: middle;\n",
       "    }\n",
       "\n",
       "    .dataframe tbody tr th {\n",
       "        vertical-align: top;\n",
       "    }\n",
       "\n",
       "    .dataframe thead th {\n",
       "        text-align: right;\n",
       "    }\n",
       "</style>\n",
       "<table border=\"1\" class=\"dataframe\">\n",
       "  <thead>\n",
       "    <tr style=\"text-align: right;\">\n",
       "      <th></th>\n",
       "      <th>year.built</th>\n",
       "      <th>eff.year.built</th>\n",
       "      <th>region</th>\n",
       "      <th>sentinel_2016_1</th>\n",
       "      <th>sentinel_2016_2</th>\n",
       "      <th>sentinel_2016_3</th>\n",
       "      <th>sentinel_2016_4</th>\n",
       "      <th>sentinel_2017_1</th>\n",
       "      <th>sentinel_2017_2</th>\n",
       "      <th>sentinel_2017_3</th>\n",
       "      <th>...</th>\n",
       "      <th>sentinel_2018_3</th>\n",
       "      <th>sentinel_2018_4</th>\n",
       "      <th>sentinel_2019_1</th>\n",
       "      <th>sentinel_2019_2</th>\n",
       "      <th>sentinel_2019_3</th>\n",
       "      <th>sentinel_2019_4</th>\n",
       "      <th>sentinel_2020_1</th>\n",
       "      <th>sentinel_2020_2</th>\n",
       "      <th>sentinel_2020_3</th>\n",
       "      <th>sentinel_2020_4</th>\n",
       "    </tr>\n",
       "  </thead>\n",
       "  <tbody>\n",
       "    <tr>\n",
       "      <th>0</th>\n",
       "      <td>2018</td>\n",
       "      <td>2018</td>\n",
       "      <td>dallas</td>\n",
       "      <td>/atlas/u/pliu1/housing_event_pred/data/houses_...</td>\n",
       "      <td>/atlas/u/pliu1/housing_event_pred/data/houses_...</td>\n",
       "      <td>/atlas/u/pliu1/housing_event_pred/data/houses_...</td>\n",
       "      <td>/atlas/u/pliu1/housing_event_pred/data/houses_...</td>\n",
       "      <td>/atlas/u/pliu1/housing_event_pred/data/houses_...</td>\n",
       "      <td>/atlas/u/pliu1/housing_event_pred/data/houses_...</td>\n",
       "      <td>/atlas/u/pliu1/housing_event_pred/data/houses_...</td>\n",
       "      <td>...</td>\n",
       "      <td>/atlas/u/pliu1/housing_event_pred/data/houses_...</td>\n",
       "      <td>/atlas/u/pliu1/housing_event_pred/data/houses_...</td>\n",
       "      <td>/atlas/u/pliu1/housing_event_pred/data/houses_...</td>\n",
       "      <td>/atlas/u/pliu1/housing_event_pred/data/houses_...</td>\n",
       "      <td>/atlas/u/pliu1/housing_event_pred/data/houses_...</td>\n",
       "      <td>/atlas/u/pliu1/housing_event_pred/data/houses_...</td>\n",
       "      <td>/atlas/u/pliu1/housing_event_pred/data/houses_...</td>\n",
       "      <td>/atlas/u/pliu1/housing_event_pred/data/houses_...</td>\n",
       "      <td>/atlas/u/pliu1/housing_event_pred/data/houses_...</td>\n",
       "      <td>/atlas/u/pliu1/housing_event_pred/data/houses_...</td>\n",
       "    </tr>\n",
       "    <tr>\n",
       "      <th>1</th>\n",
       "      <td>2017</td>\n",
       "      <td>2017</td>\n",
       "      <td>houston</td>\n",
       "      <td>/atlas/u/pliu1/housing_event_pred/data/houses_...</td>\n",
       "      <td>/atlas/u/pliu1/housing_event_pred/data/houses_...</td>\n",
       "      <td>/atlas/u/pliu1/housing_event_pred/data/houses_...</td>\n",
       "      <td>/atlas/u/pliu1/housing_event_pred/data/houses_...</td>\n",
       "      <td>/atlas/u/pliu1/housing_event_pred/data/houses_...</td>\n",
       "      <td>/atlas/u/pliu1/housing_event_pred/data/houses_...</td>\n",
       "      <td>/atlas/u/pliu1/housing_event_pred/data/houses_...</td>\n",
       "      <td>...</td>\n",
       "      <td>/atlas/u/pliu1/housing_event_pred/data/houses_...</td>\n",
       "      <td>/atlas/u/pliu1/housing_event_pred/data/houses_...</td>\n",
       "      <td>/atlas/u/pliu1/housing_event_pred/data/houses_...</td>\n",
       "      <td>/atlas/u/pliu1/housing_event_pred/data/houses_...</td>\n",
       "      <td>/atlas/u/pliu1/housing_event_pred/data/houses_...</td>\n",
       "      <td>/atlas/u/pliu1/housing_event_pred/data/houses_...</td>\n",
       "      <td>/atlas/u/pliu1/housing_event_pred/data/houses_...</td>\n",
       "      <td>/atlas/u/pliu1/housing_event_pred/data/houses_...</td>\n",
       "      <td>/atlas/u/pliu1/housing_event_pred/data/houses_...</td>\n",
       "      <td>/atlas/u/pliu1/housing_event_pred/data/houses_...</td>\n",
       "    </tr>\n",
       "    <tr>\n",
       "      <th>2</th>\n",
       "      <td>2016</td>\n",
       "      <td>2016</td>\n",
       "      <td>houston</td>\n",
       "      <td>/atlas/u/pliu1/housing_event_pred/data/houses_...</td>\n",
       "      <td>/atlas/u/pliu1/housing_event_pred/data/houses_...</td>\n",
       "      <td>/atlas/u/pliu1/housing_event_pred/data/houses_...</td>\n",
       "      <td>/atlas/u/pliu1/housing_event_pred/data/houses_...</td>\n",
       "      <td>/atlas/u/pliu1/housing_event_pred/data/houses_...</td>\n",
       "      <td>/atlas/u/pliu1/housing_event_pred/data/houses_...</td>\n",
       "      <td>/atlas/u/pliu1/housing_event_pred/data/houses_...</td>\n",
       "      <td>...</td>\n",
       "      <td>/atlas/u/pliu1/housing_event_pred/data/houses_...</td>\n",
       "      <td>/atlas/u/pliu1/housing_event_pred/data/houses_...</td>\n",
       "      <td>/atlas/u/pliu1/housing_event_pred/data/houses_...</td>\n",
       "      <td>/atlas/u/pliu1/housing_event_pred/data/houses_...</td>\n",
       "      <td>/atlas/u/pliu1/housing_event_pred/data/houses_...</td>\n",
       "      <td>/atlas/u/pliu1/housing_event_pred/data/houses_...</td>\n",
       "      <td>/atlas/u/pliu1/housing_event_pred/data/houses_...</td>\n",
       "      <td>/atlas/u/pliu1/housing_event_pred/data/houses_...</td>\n",
       "      <td>/atlas/u/pliu1/housing_event_pred/data/houses_...</td>\n",
       "      <td>/atlas/u/pliu1/housing_event_pred/data/houses_...</td>\n",
       "    </tr>\n",
       "    <tr>\n",
       "      <th>3</th>\n",
       "      <td>2017</td>\n",
       "      <td>2017</td>\n",
       "      <td>austin</td>\n",
       "      <td>/atlas/u/pliu1/housing_event_pred/data/houses_...</td>\n",
       "      <td>/atlas/u/pliu1/housing_event_pred/data/houses_...</td>\n",
       "      <td>/atlas/u/pliu1/housing_event_pred/data/houses_...</td>\n",
       "      <td>/atlas/u/pliu1/housing_event_pred/data/houses_...</td>\n",
       "      <td>/atlas/u/pliu1/housing_event_pred/data/houses_...</td>\n",
       "      <td>/atlas/u/pliu1/housing_event_pred/data/houses_...</td>\n",
       "      <td>/atlas/u/pliu1/housing_event_pred/data/houses_...</td>\n",
       "      <td>...</td>\n",
       "      <td>/atlas/u/pliu1/housing_event_pred/data/houses_...</td>\n",
       "      <td>/atlas/u/pliu1/housing_event_pred/data/houses_...</td>\n",
       "      <td>/atlas/u/pliu1/housing_event_pred/data/houses_...</td>\n",
       "      <td>/atlas/u/pliu1/housing_event_pred/data/houses_...</td>\n",
       "      <td>/atlas/u/pliu1/housing_event_pred/data/houses_...</td>\n",
       "      <td>/atlas/u/pliu1/housing_event_pred/data/houses_...</td>\n",
       "      <td>/atlas/u/pliu1/housing_event_pred/data/houses_...</td>\n",
       "      <td>/atlas/u/pliu1/housing_event_pred/data/houses_...</td>\n",
       "      <td>/atlas/u/pliu1/housing_event_pred/data/houses_...</td>\n",
       "      <td>/atlas/u/pliu1/housing_event_pred/data/houses_...</td>\n",
       "    </tr>\n",
       "    <tr>\n",
       "      <th>4</th>\n",
       "      <td>2017</td>\n",
       "      <td>2017</td>\n",
       "      <td>austin</td>\n",
       "      <td>/atlas/u/pliu1/housing_event_pred/data/houses_...</td>\n",
       "      <td>/atlas/u/pliu1/housing_event_pred/data/houses_...</td>\n",
       "      <td>/atlas/u/pliu1/housing_event_pred/data/houses_...</td>\n",
       "      <td>/atlas/u/pliu1/housing_event_pred/data/houses_...</td>\n",
       "      <td>/atlas/u/pliu1/housing_event_pred/data/houses_...</td>\n",
       "      <td>/atlas/u/pliu1/housing_event_pred/data/houses_...</td>\n",
       "      <td>/atlas/u/pliu1/housing_event_pred/data/houses_...</td>\n",
       "      <td>...</td>\n",
       "      <td>/atlas/u/pliu1/housing_event_pred/data/houses_...</td>\n",
       "      <td>/atlas/u/pliu1/housing_event_pred/data/houses_...</td>\n",
       "      <td>/atlas/u/pliu1/housing_event_pred/data/houses_...</td>\n",
       "      <td>/atlas/u/pliu1/housing_event_pred/data/houses_...</td>\n",
       "      <td>/atlas/u/pliu1/housing_event_pred/data/houses_...</td>\n",
       "      <td>/atlas/u/pliu1/housing_event_pred/data/houses_...</td>\n",
       "      <td>/atlas/u/pliu1/housing_event_pred/data/houses_...</td>\n",
       "      <td>/atlas/u/pliu1/housing_event_pred/data/houses_...</td>\n",
       "      <td>/atlas/u/pliu1/housing_event_pred/data/houses_...</td>\n",
       "      <td>/atlas/u/pliu1/housing_event_pred/data/houses_...</td>\n",
       "    </tr>\n",
       "    <tr>\n",
       "      <th>...</th>\n",
       "      <td>...</td>\n",
       "      <td>...</td>\n",
       "      <td>...</td>\n",
       "      <td>...</td>\n",
       "      <td>...</td>\n",
       "      <td>...</td>\n",
       "      <td>...</td>\n",
       "      <td>...</td>\n",
       "      <td>...</td>\n",
       "      <td>...</td>\n",
       "      <td>...</td>\n",
       "      <td>...</td>\n",
       "      <td>...</td>\n",
       "      <td>...</td>\n",
       "      <td>...</td>\n",
       "      <td>...</td>\n",
       "      <td>...</td>\n",
       "      <td>...</td>\n",
       "      <td>...</td>\n",
       "      <td>...</td>\n",
       "      <td>...</td>\n",
       "    </tr>\n",
       "    <tr>\n",
       "      <th>50222</th>\n",
       "      <td>2018</td>\n",
       "      <td>2018</td>\n",
       "      <td>austin</td>\n",
       "      <td>/atlas/u/pliu1/housing_event_pred/data/houses_...</td>\n",
       "      <td>/atlas/u/pliu1/housing_event_pred/data/houses_...</td>\n",
       "      <td>/atlas/u/pliu1/housing_event_pred/data/houses_...</td>\n",
       "      <td>/atlas/u/pliu1/housing_event_pred/data/houses_...</td>\n",
       "      <td>/atlas/u/pliu1/housing_event_pred/data/houses_...</td>\n",
       "      <td>/atlas/u/pliu1/housing_event_pred/data/houses_...</td>\n",
       "      <td>/atlas/u/pliu1/housing_event_pred/data/houses_...</td>\n",
       "      <td>...</td>\n",
       "      <td>/atlas/u/pliu1/housing_event_pred/data/houses_...</td>\n",
       "      <td>/atlas/u/pliu1/housing_event_pred/data/houses_...</td>\n",
       "      <td>/atlas/u/pliu1/housing_event_pred/data/houses_...</td>\n",
       "      <td>/atlas/u/pliu1/housing_event_pred/data/houses_...</td>\n",
       "      <td>/atlas/u/pliu1/housing_event_pred/data/houses_...</td>\n",
       "      <td>/atlas/u/pliu1/housing_event_pred/data/houses_...</td>\n",
       "      <td>/atlas/u/pliu1/housing_event_pred/data/houses_...</td>\n",
       "      <td>/atlas/u/pliu1/housing_event_pred/data/houses_...</td>\n",
       "      <td>/atlas/u/pliu1/housing_event_pred/data/houses_...</td>\n",
       "      <td>/atlas/u/pliu1/housing_event_pred/data/houses_...</td>\n",
       "    </tr>\n",
       "    <tr>\n",
       "      <th>50223</th>\n",
       "      <td>2015</td>\n",
       "      <td>2015</td>\n",
       "      <td>houston</td>\n",
       "      <td>/atlas/u/pliu1/housing_event_pred/data/houses_...</td>\n",
       "      <td>/atlas/u/pliu1/housing_event_pred/data/houses_...</td>\n",
       "      <td>/atlas/u/pliu1/housing_event_pred/data/houses_...</td>\n",
       "      <td>/atlas/u/pliu1/housing_event_pred/data/houses_...</td>\n",
       "      <td>/atlas/u/pliu1/housing_event_pred/data/houses_...</td>\n",
       "      <td>/atlas/u/pliu1/housing_event_pred/data/houses_...</td>\n",
       "      <td>/atlas/u/pliu1/housing_event_pred/data/houses_...</td>\n",
       "      <td>...</td>\n",
       "      <td>/atlas/u/pliu1/housing_event_pred/data/houses_...</td>\n",
       "      <td>/atlas/u/pliu1/housing_event_pred/data/houses_...</td>\n",
       "      <td>/atlas/u/pliu1/housing_event_pred/data/houses_...</td>\n",
       "      <td>/atlas/u/pliu1/housing_event_pred/data/houses_...</td>\n",
       "      <td>/atlas/u/pliu1/housing_event_pred/data/houses_...</td>\n",
       "      <td>/atlas/u/pliu1/housing_event_pred/data/houses_...</td>\n",
       "      <td>/atlas/u/pliu1/housing_event_pred/data/houses_...</td>\n",
       "      <td>/atlas/u/pliu1/housing_event_pred/data/houses_...</td>\n",
       "      <td>/atlas/u/pliu1/housing_event_pred/data/houses_...</td>\n",
       "      <td>/atlas/u/pliu1/housing_event_pred/data/houses_...</td>\n",
       "    </tr>\n",
       "    <tr>\n",
       "      <th>50224</th>\n",
       "      <td>2016</td>\n",
       "      <td>2016</td>\n",
       "      <td>austin</td>\n",
       "      <td>/atlas/u/pliu1/housing_event_pred/data/houses_...</td>\n",
       "      <td>/atlas/u/pliu1/housing_event_pred/data/houses_...</td>\n",
       "      <td>/atlas/u/pliu1/housing_event_pred/data/houses_...</td>\n",
       "      <td>/atlas/u/pliu1/housing_event_pred/data/houses_...</td>\n",
       "      <td>/atlas/u/pliu1/housing_event_pred/data/houses_...</td>\n",
       "      <td>/atlas/u/pliu1/housing_event_pred/data/houses_...</td>\n",
       "      <td>/atlas/u/pliu1/housing_event_pred/data/houses_...</td>\n",
       "      <td>...</td>\n",
       "      <td>/atlas/u/pliu1/housing_event_pred/data/houses_...</td>\n",
       "      <td>/atlas/u/pliu1/housing_event_pred/data/houses_...</td>\n",
       "      <td>/atlas/u/pliu1/housing_event_pred/data/houses_...</td>\n",
       "      <td>/atlas/u/pliu1/housing_event_pred/data/houses_...</td>\n",
       "      <td>/atlas/u/pliu1/housing_event_pred/data/houses_...</td>\n",
       "      <td>/atlas/u/pliu1/housing_event_pred/data/houses_...</td>\n",
       "      <td>/atlas/u/pliu1/housing_event_pred/data/houses_...</td>\n",
       "      <td>/atlas/u/pliu1/housing_event_pred/data/houses_...</td>\n",
       "      <td>/atlas/u/pliu1/housing_event_pred/data/houses_...</td>\n",
       "      <td>/atlas/u/pliu1/housing_event_pred/data/houses_...</td>\n",
       "    </tr>\n",
       "    <tr>\n",
       "      <th>50225</th>\n",
       "      <td>2018</td>\n",
       "      <td>2018</td>\n",
       "      <td>houston</td>\n",
       "      <td>/atlas/u/pliu1/housing_event_pred/data/houses_...</td>\n",
       "      <td>/atlas/u/pliu1/housing_event_pred/data/houses_...</td>\n",
       "      <td>/atlas/u/pliu1/housing_event_pred/data/houses_...</td>\n",
       "      <td>/atlas/u/pliu1/housing_event_pred/data/houses_...</td>\n",
       "      <td>/atlas/u/pliu1/housing_event_pred/data/houses_...</td>\n",
       "      <td>/atlas/u/pliu1/housing_event_pred/data/houses_...</td>\n",
       "      <td>/atlas/u/pliu1/housing_event_pred/data/houses_...</td>\n",
       "      <td>...</td>\n",
       "      <td>/atlas/u/pliu1/housing_event_pred/data/houses_...</td>\n",
       "      <td>/atlas/u/pliu1/housing_event_pred/data/houses_...</td>\n",
       "      <td>/atlas/u/pliu1/housing_event_pred/data/houses_...</td>\n",
       "      <td>/atlas/u/pliu1/housing_event_pred/data/houses_...</td>\n",
       "      <td>/atlas/u/pliu1/housing_event_pred/data/houses_...</td>\n",
       "      <td>/atlas/u/pliu1/housing_event_pred/data/houses_...</td>\n",
       "      <td>/atlas/u/pliu1/housing_event_pred/data/houses_...</td>\n",
       "      <td>/atlas/u/pliu1/housing_event_pred/data/houses_...</td>\n",
       "      <td>/atlas/u/pliu1/housing_event_pred/data/houses_...</td>\n",
       "      <td>/atlas/u/pliu1/housing_event_pred/data/houses_...</td>\n",
       "    </tr>\n",
       "    <tr>\n",
       "      <th>50226</th>\n",
       "      <td>2016</td>\n",
       "      <td>2016</td>\n",
       "      <td>houston</td>\n",
       "      <td>/atlas/u/pliu1/housing_event_pred/data/houses_...</td>\n",
       "      <td>/atlas/u/pliu1/housing_event_pred/data/houses_...</td>\n",
       "      <td>/atlas/u/pliu1/housing_event_pred/data/houses_...</td>\n",
       "      <td>/atlas/u/pliu1/housing_event_pred/data/houses_...</td>\n",
       "      <td>/atlas/u/pliu1/housing_event_pred/data/houses_...</td>\n",
       "      <td>/atlas/u/pliu1/housing_event_pred/data/houses_...</td>\n",
       "      <td>/atlas/u/pliu1/housing_event_pred/data/houses_...</td>\n",
       "      <td>...</td>\n",
       "      <td>/atlas/u/pliu1/housing_event_pred/data/houses_...</td>\n",
       "      <td>/atlas/u/pliu1/housing_event_pred/data/houses_...</td>\n",
       "      <td>/atlas/u/pliu1/housing_event_pred/data/houses_...</td>\n",
       "      <td>/atlas/u/pliu1/housing_event_pred/data/houses_...</td>\n",
       "      <td>/atlas/u/pliu1/housing_event_pred/data/houses_...</td>\n",
       "      <td>/atlas/u/pliu1/housing_event_pred/data/houses_...</td>\n",
       "      <td>/atlas/u/pliu1/housing_event_pred/data/houses_...</td>\n",
       "      <td>/atlas/u/pliu1/housing_event_pred/data/houses_...</td>\n",
       "      <td>/atlas/u/pliu1/housing_event_pred/data/houses_...</td>\n",
       "      <td>/atlas/u/pliu1/housing_event_pred/data/houses_...</td>\n",
       "    </tr>\n",
       "  </tbody>\n",
       "</table>\n",
       "<p>50227 rows × 23 columns</p>\n",
       "</div>"
      ],
      "text/plain": [
       "       year.built  eff.year.built   region  \\\n",
       "0            2018            2018   dallas   \n",
       "1            2017            2017  houston   \n",
       "2            2016            2016  houston   \n",
       "3            2017            2017   austin   \n",
       "4            2017            2017   austin   \n",
       "...           ...             ...      ...   \n",
       "50222        2018            2018   austin   \n",
       "50223        2015            2015  houston   \n",
       "50224        2016            2016   austin   \n",
       "50225        2018            2018  houston   \n",
       "50226        2016            2016  houston   \n",
       "\n",
       "                                         sentinel_2016_1  \\\n",
       "0      /atlas/u/pliu1/housing_event_pred/data/houses_...   \n",
       "1      /atlas/u/pliu1/housing_event_pred/data/houses_...   \n",
       "2      /atlas/u/pliu1/housing_event_pred/data/houses_...   \n",
       "3      /atlas/u/pliu1/housing_event_pred/data/houses_...   \n",
       "4      /atlas/u/pliu1/housing_event_pred/data/houses_...   \n",
       "...                                                  ...   \n",
       "50222  /atlas/u/pliu1/housing_event_pred/data/houses_...   \n",
       "50223  /atlas/u/pliu1/housing_event_pred/data/houses_...   \n",
       "50224  /atlas/u/pliu1/housing_event_pred/data/houses_...   \n",
       "50225  /atlas/u/pliu1/housing_event_pred/data/houses_...   \n",
       "50226  /atlas/u/pliu1/housing_event_pred/data/houses_...   \n",
       "\n",
       "                                         sentinel_2016_2  \\\n",
       "0      /atlas/u/pliu1/housing_event_pred/data/houses_...   \n",
       "1      /atlas/u/pliu1/housing_event_pred/data/houses_...   \n",
       "2      /atlas/u/pliu1/housing_event_pred/data/houses_...   \n",
       "3      /atlas/u/pliu1/housing_event_pred/data/houses_...   \n",
       "4      /atlas/u/pliu1/housing_event_pred/data/houses_...   \n",
       "...                                                  ...   \n",
       "50222  /atlas/u/pliu1/housing_event_pred/data/houses_...   \n",
       "50223  /atlas/u/pliu1/housing_event_pred/data/houses_...   \n",
       "50224  /atlas/u/pliu1/housing_event_pred/data/houses_...   \n",
       "50225  /atlas/u/pliu1/housing_event_pred/data/houses_...   \n",
       "50226  /atlas/u/pliu1/housing_event_pred/data/houses_...   \n",
       "\n",
       "                                         sentinel_2016_3  \\\n",
       "0      /atlas/u/pliu1/housing_event_pred/data/houses_...   \n",
       "1      /atlas/u/pliu1/housing_event_pred/data/houses_...   \n",
       "2      /atlas/u/pliu1/housing_event_pred/data/houses_...   \n",
       "3      /atlas/u/pliu1/housing_event_pred/data/houses_...   \n",
       "4      /atlas/u/pliu1/housing_event_pred/data/houses_...   \n",
       "...                                                  ...   \n",
       "50222  /atlas/u/pliu1/housing_event_pred/data/houses_...   \n",
       "50223  /atlas/u/pliu1/housing_event_pred/data/houses_...   \n",
       "50224  /atlas/u/pliu1/housing_event_pred/data/houses_...   \n",
       "50225  /atlas/u/pliu1/housing_event_pred/data/houses_...   \n",
       "50226  /atlas/u/pliu1/housing_event_pred/data/houses_...   \n",
       "\n",
       "                                         sentinel_2016_4  \\\n",
       "0      /atlas/u/pliu1/housing_event_pred/data/houses_...   \n",
       "1      /atlas/u/pliu1/housing_event_pred/data/houses_...   \n",
       "2      /atlas/u/pliu1/housing_event_pred/data/houses_...   \n",
       "3      /atlas/u/pliu1/housing_event_pred/data/houses_...   \n",
       "4      /atlas/u/pliu1/housing_event_pred/data/houses_...   \n",
       "...                                                  ...   \n",
       "50222  /atlas/u/pliu1/housing_event_pred/data/houses_...   \n",
       "50223  /atlas/u/pliu1/housing_event_pred/data/houses_...   \n",
       "50224  /atlas/u/pliu1/housing_event_pred/data/houses_...   \n",
       "50225  /atlas/u/pliu1/housing_event_pred/data/houses_...   \n",
       "50226  /atlas/u/pliu1/housing_event_pred/data/houses_...   \n",
       "\n",
       "                                         sentinel_2017_1  \\\n",
       "0      /atlas/u/pliu1/housing_event_pred/data/houses_...   \n",
       "1      /atlas/u/pliu1/housing_event_pred/data/houses_...   \n",
       "2      /atlas/u/pliu1/housing_event_pred/data/houses_...   \n",
       "3      /atlas/u/pliu1/housing_event_pred/data/houses_...   \n",
       "4      /atlas/u/pliu1/housing_event_pred/data/houses_...   \n",
       "...                                                  ...   \n",
       "50222  /atlas/u/pliu1/housing_event_pred/data/houses_...   \n",
       "50223  /atlas/u/pliu1/housing_event_pred/data/houses_...   \n",
       "50224  /atlas/u/pliu1/housing_event_pred/data/houses_...   \n",
       "50225  /atlas/u/pliu1/housing_event_pred/data/houses_...   \n",
       "50226  /atlas/u/pliu1/housing_event_pred/data/houses_...   \n",
       "\n",
       "                                         sentinel_2017_2  \\\n",
       "0      /atlas/u/pliu1/housing_event_pred/data/houses_...   \n",
       "1      /atlas/u/pliu1/housing_event_pred/data/houses_...   \n",
       "2      /atlas/u/pliu1/housing_event_pred/data/houses_...   \n",
       "3      /atlas/u/pliu1/housing_event_pred/data/houses_...   \n",
       "4      /atlas/u/pliu1/housing_event_pred/data/houses_...   \n",
       "...                                                  ...   \n",
       "50222  /atlas/u/pliu1/housing_event_pred/data/houses_...   \n",
       "50223  /atlas/u/pliu1/housing_event_pred/data/houses_...   \n",
       "50224  /atlas/u/pliu1/housing_event_pred/data/houses_...   \n",
       "50225  /atlas/u/pliu1/housing_event_pred/data/houses_...   \n",
       "50226  /atlas/u/pliu1/housing_event_pred/data/houses_...   \n",
       "\n",
       "                                         sentinel_2017_3  ...  \\\n",
       "0      /atlas/u/pliu1/housing_event_pred/data/houses_...  ...   \n",
       "1      /atlas/u/pliu1/housing_event_pred/data/houses_...  ...   \n",
       "2      /atlas/u/pliu1/housing_event_pred/data/houses_...  ...   \n",
       "3      /atlas/u/pliu1/housing_event_pred/data/houses_...  ...   \n",
       "4      /atlas/u/pliu1/housing_event_pred/data/houses_...  ...   \n",
       "...                                                  ...  ...   \n",
       "50222  /atlas/u/pliu1/housing_event_pred/data/houses_...  ...   \n",
       "50223  /atlas/u/pliu1/housing_event_pred/data/houses_...  ...   \n",
       "50224  /atlas/u/pliu1/housing_event_pred/data/houses_...  ...   \n",
       "50225  /atlas/u/pliu1/housing_event_pred/data/houses_...  ...   \n",
       "50226  /atlas/u/pliu1/housing_event_pred/data/houses_...  ...   \n",
       "\n",
       "                                         sentinel_2018_3  \\\n",
       "0      /atlas/u/pliu1/housing_event_pred/data/houses_...   \n",
       "1      /atlas/u/pliu1/housing_event_pred/data/houses_...   \n",
       "2      /atlas/u/pliu1/housing_event_pred/data/houses_...   \n",
       "3      /atlas/u/pliu1/housing_event_pred/data/houses_...   \n",
       "4      /atlas/u/pliu1/housing_event_pred/data/houses_...   \n",
       "...                                                  ...   \n",
       "50222  /atlas/u/pliu1/housing_event_pred/data/houses_...   \n",
       "50223  /atlas/u/pliu1/housing_event_pred/data/houses_...   \n",
       "50224  /atlas/u/pliu1/housing_event_pred/data/houses_...   \n",
       "50225  /atlas/u/pliu1/housing_event_pred/data/houses_...   \n",
       "50226  /atlas/u/pliu1/housing_event_pred/data/houses_...   \n",
       "\n",
       "                                         sentinel_2018_4  \\\n",
       "0      /atlas/u/pliu1/housing_event_pred/data/houses_...   \n",
       "1      /atlas/u/pliu1/housing_event_pred/data/houses_...   \n",
       "2      /atlas/u/pliu1/housing_event_pred/data/houses_...   \n",
       "3      /atlas/u/pliu1/housing_event_pred/data/houses_...   \n",
       "4      /atlas/u/pliu1/housing_event_pred/data/houses_...   \n",
       "...                                                  ...   \n",
       "50222  /atlas/u/pliu1/housing_event_pred/data/houses_...   \n",
       "50223  /atlas/u/pliu1/housing_event_pred/data/houses_...   \n",
       "50224  /atlas/u/pliu1/housing_event_pred/data/houses_...   \n",
       "50225  /atlas/u/pliu1/housing_event_pred/data/houses_...   \n",
       "50226  /atlas/u/pliu1/housing_event_pred/data/houses_...   \n",
       "\n",
       "                                         sentinel_2019_1  \\\n",
       "0      /atlas/u/pliu1/housing_event_pred/data/houses_...   \n",
       "1      /atlas/u/pliu1/housing_event_pred/data/houses_...   \n",
       "2      /atlas/u/pliu1/housing_event_pred/data/houses_...   \n",
       "3      /atlas/u/pliu1/housing_event_pred/data/houses_...   \n",
       "4      /atlas/u/pliu1/housing_event_pred/data/houses_...   \n",
       "...                                                  ...   \n",
       "50222  /atlas/u/pliu1/housing_event_pred/data/houses_...   \n",
       "50223  /atlas/u/pliu1/housing_event_pred/data/houses_...   \n",
       "50224  /atlas/u/pliu1/housing_event_pred/data/houses_...   \n",
       "50225  /atlas/u/pliu1/housing_event_pred/data/houses_...   \n",
       "50226  /atlas/u/pliu1/housing_event_pred/data/houses_...   \n",
       "\n",
       "                                         sentinel_2019_2  \\\n",
       "0      /atlas/u/pliu1/housing_event_pred/data/houses_...   \n",
       "1      /atlas/u/pliu1/housing_event_pred/data/houses_...   \n",
       "2      /atlas/u/pliu1/housing_event_pred/data/houses_...   \n",
       "3      /atlas/u/pliu1/housing_event_pred/data/houses_...   \n",
       "4      /atlas/u/pliu1/housing_event_pred/data/houses_...   \n",
       "...                                                  ...   \n",
       "50222  /atlas/u/pliu1/housing_event_pred/data/houses_...   \n",
       "50223  /atlas/u/pliu1/housing_event_pred/data/houses_...   \n",
       "50224  /atlas/u/pliu1/housing_event_pred/data/houses_...   \n",
       "50225  /atlas/u/pliu1/housing_event_pred/data/houses_...   \n",
       "50226  /atlas/u/pliu1/housing_event_pred/data/houses_...   \n",
       "\n",
       "                                         sentinel_2019_3  \\\n",
       "0      /atlas/u/pliu1/housing_event_pred/data/houses_...   \n",
       "1      /atlas/u/pliu1/housing_event_pred/data/houses_...   \n",
       "2      /atlas/u/pliu1/housing_event_pred/data/houses_...   \n",
       "3      /atlas/u/pliu1/housing_event_pred/data/houses_...   \n",
       "4      /atlas/u/pliu1/housing_event_pred/data/houses_...   \n",
       "...                                                  ...   \n",
       "50222  /atlas/u/pliu1/housing_event_pred/data/houses_...   \n",
       "50223  /atlas/u/pliu1/housing_event_pred/data/houses_...   \n",
       "50224  /atlas/u/pliu1/housing_event_pred/data/houses_...   \n",
       "50225  /atlas/u/pliu1/housing_event_pred/data/houses_...   \n",
       "50226  /atlas/u/pliu1/housing_event_pred/data/houses_...   \n",
       "\n",
       "                                         sentinel_2019_4  \\\n",
       "0      /atlas/u/pliu1/housing_event_pred/data/houses_...   \n",
       "1      /atlas/u/pliu1/housing_event_pred/data/houses_...   \n",
       "2      /atlas/u/pliu1/housing_event_pred/data/houses_...   \n",
       "3      /atlas/u/pliu1/housing_event_pred/data/houses_...   \n",
       "4      /atlas/u/pliu1/housing_event_pred/data/houses_...   \n",
       "...                                                  ...   \n",
       "50222  /atlas/u/pliu1/housing_event_pred/data/houses_...   \n",
       "50223  /atlas/u/pliu1/housing_event_pred/data/houses_...   \n",
       "50224  /atlas/u/pliu1/housing_event_pred/data/houses_...   \n",
       "50225  /atlas/u/pliu1/housing_event_pred/data/houses_...   \n",
       "50226  /atlas/u/pliu1/housing_event_pred/data/houses_...   \n",
       "\n",
       "                                         sentinel_2020_1  \\\n",
       "0      /atlas/u/pliu1/housing_event_pred/data/houses_...   \n",
       "1      /atlas/u/pliu1/housing_event_pred/data/houses_...   \n",
       "2      /atlas/u/pliu1/housing_event_pred/data/houses_...   \n",
       "3      /atlas/u/pliu1/housing_event_pred/data/houses_...   \n",
       "4      /atlas/u/pliu1/housing_event_pred/data/houses_...   \n",
       "...                                                  ...   \n",
       "50222  /atlas/u/pliu1/housing_event_pred/data/houses_...   \n",
       "50223  /atlas/u/pliu1/housing_event_pred/data/houses_...   \n",
       "50224  /atlas/u/pliu1/housing_event_pred/data/houses_...   \n",
       "50225  /atlas/u/pliu1/housing_event_pred/data/houses_...   \n",
       "50226  /atlas/u/pliu1/housing_event_pred/data/houses_...   \n",
       "\n",
       "                                         sentinel_2020_2  \\\n",
       "0      /atlas/u/pliu1/housing_event_pred/data/houses_...   \n",
       "1      /atlas/u/pliu1/housing_event_pred/data/houses_...   \n",
       "2      /atlas/u/pliu1/housing_event_pred/data/houses_...   \n",
       "3      /atlas/u/pliu1/housing_event_pred/data/houses_...   \n",
       "4      /atlas/u/pliu1/housing_event_pred/data/houses_...   \n",
       "...                                                  ...   \n",
       "50222  /atlas/u/pliu1/housing_event_pred/data/houses_...   \n",
       "50223  /atlas/u/pliu1/housing_event_pred/data/houses_...   \n",
       "50224  /atlas/u/pliu1/housing_event_pred/data/houses_...   \n",
       "50225  /atlas/u/pliu1/housing_event_pred/data/houses_...   \n",
       "50226  /atlas/u/pliu1/housing_event_pred/data/houses_...   \n",
       "\n",
       "                                         sentinel_2020_3  \\\n",
       "0      /atlas/u/pliu1/housing_event_pred/data/houses_...   \n",
       "1      /atlas/u/pliu1/housing_event_pred/data/houses_...   \n",
       "2      /atlas/u/pliu1/housing_event_pred/data/houses_...   \n",
       "3      /atlas/u/pliu1/housing_event_pred/data/houses_...   \n",
       "4      /atlas/u/pliu1/housing_event_pred/data/houses_...   \n",
       "...                                                  ...   \n",
       "50222  /atlas/u/pliu1/housing_event_pred/data/houses_...   \n",
       "50223  /atlas/u/pliu1/housing_event_pred/data/houses_...   \n",
       "50224  /atlas/u/pliu1/housing_event_pred/data/houses_...   \n",
       "50225  /atlas/u/pliu1/housing_event_pred/data/houses_...   \n",
       "50226  /atlas/u/pliu1/housing_event_pred/data/houses_...   \n",
       "\n",
       "                                         sentinel_2020_4  \n",
       "0      /atlas/u/pliu1/housing_event_pred/data/houses_...  \n",
       "1      /atlas/u/pliu1/housing_event_pred/data/houses_...  \n",
       "2      /atlas/u/pliu1/housing_event_pred/data/houses_...  \n",
       "3      /atlas/u/pliu1/housing_event_pred/data/houses_...  \n",
       "4      /atlas/u/pliu1/housing_event_pred/data/houses_...  \n",
       "...                                                  ...  \n",
       "50222  /atlas/u/pliu1/housing_event_pred/data/houses_...  \n",
       "50223  /atlas/u/pliu1/housing_event_pred/data/houses_...  \n",
       "50224  /atlas/u/pliu1/housing_event_pred/data/houses_...  \n",
       "50225  /atlas/u/pliu1/housing_event_pred/data/houses_...  \n",
       "50226  /atlas/u/pliu1/housing_event_pred/data/houses_...  \n",
       "\n",
       "[50227 rows x 23 columns]"
      ]
     },
     "execution_count": 57,
     "metadata": {},
     "output_type": "execute_result"
    }
   ],
   "source": [
    "df = pd.read_csv(csv_path).drop([\"Unnamed: 0\"], axis=1)\n",
    "df"
   ]
  },
  {
   "cell_type": "code",
   "execution_count": 58,
   "id": "c0ee10cc-9f89-4a52-94d0-5cecc65232ce",
   "metadata": {},
   "outputs": [
    {
     "data": {
      "image/png": "[encoded data removed]",
      "text/plain": [
       "<Figure size 432x288 with 1 Axes>"
      ]
     },
     "metadata": {
      "needs_background": "light"
     },
     "output_type": "display_data"
    }
   ],
   "source": [
    "plt.bar(*np.unique(df[\"year.built\"], return_counts=True))\n",
    "plt.title(\"year_built\")\n",
    "plt.show()"
   ]
  },
  {
   "cell_type": "code",
   "execution_count": 59,
   "id": "a6d792b9-29f8-4490-8bb8-b13b133997df",
   "metadata": {},
   "outputs": [
    {
     "data": {
      "text/plain": [
       "25071"
      ]
     },
     "execution_count": 59,
     "metadata": {},
     "output_type": "execute_result"
    }
   ],
   "source": [
    "df = df[df[\"year.built\"].isin([2017, 2018])]\n",
    "len(df)"
   ]
  },
  {
   "cell_type": "code",
   "execution_count": 7,
   "id": "0ad535c2-2741-4e9b-9fed-0de528f58575",
   "metadata": {},
   "outputs": [
    {
     "name": "stderr",
     "output_type": "stream",
     "text": [
      "/tmp/ipykernel_3380871/2766146464.py:4: UserWarning: Creating a tensor from a list of numpy.ndarrays is extremely slow. Please consider converting the list to a single numpy.ndarray with numpy.array() before converting to a tensor. (Triggered internally at  /opt/conda/conda-bld/pytorch_1634272204863/work/torch/csrc/utils/tensor_new.cpp:201.)\n",
      "  images = torch.FloatTensor([rasterio.open(name).read() for name in img_locs])\n"
     ]
    },
    {
     "data": {
      "text/plain": [
       "torch.Size([20, 4, 23, 27])"
      ]
     },
     "execution_count": 7,
     "metadata": {},
     "output_type": "execute_result"
    }
   ],
   "source": [
    "idx = 400\n",
    "row = df.iloc[idx]\n",
    "img_locs = row[df.columns.str.contains(\"sentinel_\")].to_numpy()\n",
    "images = torch.FloatTensor([rasterio.open(name).read() for name in img_locs])\n",
    "build_year = row[\"year.built\"]\n",
    "images.shape"
   ]
  },
  {
   "cell_type": "code",
   "execution_count": 8,
   "id": "274f1bef-2a9c-4da0-9052-5c2fd57021fb",
   "metadata": {},
   "outputs": [],
   "source": [
    "def show_image(image):\n",
    "    plt.figure()\n",
    "    max_clamp = 3000\n",
    "    gamma = 1.2\n",
    "    image = torch.Tensor(image[0:3]).permute(1, 2, 0).numpy()\n",
    "    image = np.clip(image, 0, max_clamp) \n",
    "    image = (255 * (image / max_clamp)**(1/gamma)).astype(np.uint8)\n",
    "    plt.imshow(image)\n",
    "    plt.show()\n",
    "    \n",
    "def show_series(images):\n",
    "    max_clamp = 3000\n",
    "    gamma = 1.2\n",
    "    fig, axs = plt.subplots(5,4,figsize=(12, 15))\n",
    "\n",
    "    for i in range(images.shape[0]):\n",
    "        image = images[i]\n",
    "        image = torch.Tensor(image[0:3]).permute(1, 2, 0).numpy()\n",
    "        image = np.clip(image, 0, max_clamp) \n",
    "        image = (255 * (image / max_clamp)**(1/gamma)).astype(np.uint8)\n",
    "        axs[i // 4, i%4].imshow(image)\n",
    "        axs[i // 4, i%4].axis('off')\n",
    "        axs[i // 4, i%4].set_title(f\"Year {i // 4 + 2016}, Month: {(i % 4) * 3 + 1}\")\n",
    "    plt.show()\n",
    "#show_series(img_loc[0])"
   ]
  },
  {
   "cell_type": "code",
   "execution_count": 9,
   "id": "f8140be2-4878-4cf4-9afb-1bc657883b26",
   "metadata": {},
   "outputs": [
    {
     "name": "stdout",
     "output_type": "stream",
     "text": [
      "Build year: 2018\n"
     ]
    },
    {
     "data": {
      "image/png": "[encoded data removed]",
      "text/plain": [
       "<Figure size 864x1080 with 20 Axes>"
      ]
     },
     "metadata": {
      "needs_background": "light"
     },
     "output_type": "display_data"
    }
   ],
   "source": [
    "print(\"Build year:\", build_year)\n",
    "show_series(images)"
   ]
  },
  {
   "cell_type": "code",
   "execution_count": 10,
   "id": "27adc2c9-1472-4e0c-81ea-cffcfd60b870",
   "metadata": {},
   "outputs": [
    {
     "name": "stdout",
     "output_type": "stream",
     "text": [
      "Label: 1\n",
      "Build year: 2018\n",
      "Start (2017, 1) -> Sample (2019, 7) -> End (2019, 10)\n"
     ]
    }
   ],
   "source": [
    "label = 1 * (np.random.rand() < 0.5) # 0 for sampled image before construction year, 1 for after\n",
    "print(\"Label:\", label)\n",
    "print(\"Build year:\", build_year)\n",
    "before_times = [(year, month) for year in range(2016, build_year) for month in range(1, 12, 3)]\n",
    "after_times = [(year, month) for year in range(build_year+1, 2020) for month in range(1, 12, 3)]\n",
    "if label == 0: # Start -> Sampled -> Build -> End\n",
    "    T_start, T_sample = sorted(np.random.choice(np.arange(len(before_times)), size=(2,), replace=False))\n",
    "    T_end = np.random.choice(np.arange(len(after_times)), replace=False)\n",
    "    T_start = before_times[T_start]\n",
    "    T_end = after_times[T_end]\n",
    "    T_sample = before_times[T_sample]\n",
    "else:\n",
    "    T_start = np.random.choice(np.arange(len(before_times)), replace=False)\n",
    "    T_sample, T_end = sorted(np.random.choice(np.arange(len(after_times)), size=(2,), replace=False))\n",
    "    T_start = before_times[T_start]\n",
    "    T_end = after_times[T_end]\n",
    "    T_sample = after_times[T_sample]\n",
    "print(f\"Start {T_start} -> Sample {T_sample} -> End {T_end}\")"
   ]
  },
  {
   "cell_type": "code",
   "execution_count": 11,
   "id": "aed71be9-88d8-4919-89ad-bcdd4bd9a27b",
   "metadata": {},
   "outputs": [
    {
     "data": {
      "text/plain": [
       "['/atlas/u/pliu1/housing_event_pred/data/houses_new/2017_1_2026024_austin.tif',\n",
       " '/atlas/u/pliu1/housing_event_pred/data/houses_new/2019_4_2026024_austin.tif',\n",
       " '/atlas/u/pliu1/housing_event_pred/data/houses_new/2019_3_2026024_austin.tif']"
      ]
     },
     "execution_count": 11,
     "metadata": {},
     "output_type": "execute_result"
    }
   ],
   "source": [
    "col_names = [f\"sentinel_{y}_{(m - 1) // 3 + 1}\" for y, m in [T_start, T_end, T_sample]]\n",
    "image_files = row[col_names].tolist()\n",
    "image_files"
   ]
  },
  {
   "cell_type": "code",
   "execution_count": 12,
   "id": "b529826c-2edc-4587-ad32-e232ca542476",
   "metadata": {},
   "outputs": [
    {
     "name": "stdout",
     "output_type": "stream",
     "text": [
      "Start (2017, 1)\n"
     ]
    },
    {
     "data": {
      "image/png": "[encoded data removed]",
      "text/plain": [
       "<Figure size 432x288 with 1 Axes>"
      ]
     },
     "metadata": {
      "needs_background": "light"
     },
     "output_type": "display_data"
    },
    {
     "name": "stdout",
     "output_type": "stream",
     "text": [
      "End (2019, 10)\n"
     ]
    },
    {
     "data": {
      "image/png": "[encoded data removed]",
      "text/plain": [
       "<Figure size 432x288 with 1 Axes>"
      ]
     },
     "metadata": {
      "needs_background": "light"
     },
     "output_type": "display_data"
    },
    {
     "name": "stdout",
     "output_type": "stream",
     "text": [
      "Sample (2019, 7)\n"
     ]
    },
    {
     "data": {
      "image/png": "[encoded data removed]",
      "text/plain": [
       "<Figure size 432x288 with 1 Axes>"
      ]
     },
     "metadata": {
      "needs_background": "light"
     },
     "output_type": "display_data"
    }
   ],
   "source": [
    "img_start, img_end, img_sample = torch.FloatTensor([rasterio.open(name).read() for name in image_files])\n",
    "print(\"Start\", T_start)\n",
    "show_image(img_start)\n",
    "print(\"End\", T_end)\n",
    "show_image(img_end)\n",
    "print(\"Sample\", T_sample)\n",
    "show_image(img_sample)"
   ]
  },
  {
   "cell_type": "markdown",
   "id": "64ac7d07-6091-45f1-9aee-42fe60a87bc5",
   "metadata": {},
   "source": [
    "# Housing dataset class"
   ]
  },
  {
   "cell_type": "code",
   "execution_count": 53,
   "id": "57e000ca-84f6-499a-ac0f-f08d2abc841c",
   "metadata": {},
   "outputs": [],
   "source": [
    "class HousingDataset(torch.utils.data.Dataset):\n",
    "    '''Housing Dataset, Seasonal Sentinel-2'''\n",
    "    def __init__(self, \n",
    "                 csv_file = \"/atlas/u/erikrozi/housing_event_pred/data/train_seasonal_eff.csv\",\n",
    "                 root_dir = \"/atlas/u/pliu1/housing_event_pred/data/houses_new/\", \n",
    "                 first_year = 2016,\n",
    "                 last_year = 2019,\n",
    "                 build_years = [2017, 2018], \n",
    "                 transform = None):\n",
    "        \"\"\"\n",
    "        Args:\n",
    "            csv_file (string): Path to the csv file with annotations.\n",
    "            root_dir (string): Directory with all the images.\n",
    "            first_year (int): Earliest year to allow images from.\n",
    "            last_year (int): Last year to allow images from.\n",
    "            build_years (list of ints): List of all build years to use.\n",
    "            transform (callable, optional): Optional transform to be applied on tensor images.\n",
    "        \"\"\"\n",
    "        self.df = pd.read_csv(csv_file)\n",
    "        self.df = self.df[self.df[\"year.built\"].isin(build_years)]\n",
    "        self.root_dir = root_dir\n",
    "        self.transform = transform\n",
    "        \n",
    "        self.first_year = first_year\n",
    "        self.last_year = last_year\n",
    "        \n",
    "        # Gets all unique image ids\n",
    "        self.image_ids = self.df.iloc[:, 0].to_numpy()\n",
    "        \n",
    "    def __len__(self):\n",
    "        return len(self.image_ids)\n",
    "    \n",
    "    def __getitem__(self, idx):\n",
    "        '''Gets timeseries info for images in one area\n",
    "        \n",
    "        Args: \n",
    "            idx: Index of datapoint in dataset\n",
    "            \n",
    "        Returns dictionary containing:\n",
    "            'id' (int): ID of image location\n",
    "            'region' (str): Region of image location\n",
    "            'year_built' (int): Year built as labeled in dataset\n",
    "            'label' (int, 0 or 1): 0 if sampled image occurs before the build year, 1 if it occurs after\n",
    "            'image_start' (torch.FloatTensor): Image at the start time\n",
    "            'year_start' (int): Year of the start image \n",
    "            'month_start' (month): Month of the start date\n",
    "            'image_end' (torch.FloatTensor): Image at the end time. Without transfermations, should have dimensions\n",
    "                ChannelxHeightxWidth, with channel order R, G, B, B8 (NIR)\n",
    "            'year_end' (int): Year of the end image \n",
    "            'month_end' (month): Month of the end date\n",
    "            'image_sample' (torch.FloatTensor): Image at the sample time\n",
    "            'year_sample' (int): Year of the sample image \n",
    "            'month_sample' (month): Month of the sample date\n",
    "        '''\n",
    "        row = self.df.iloc[idx]\n",
    "        year_built = row[\"year.built\"]\n",
    "        \n",
    "        label = 1 * (np.random.rand() < 0.5) # 0 for sampled image before construction year, 1 for after\n",
    "        before_times = [(year, month) for year in range(self.first_year, year_built) for month in range(1, 12, 3)]\n",
    "        after_times = [(year, month) for year in range(year_built+1, self.last_year+1) for month in range(1, 12, 3)]\n",
    "        if label == 0: # Start -> Sampled -> Build -> End\n",
    "            T_start, T_sample = sorted(np.random.choice(np.arange(len(before_times)), size=(2,), replace=False))\n",
    "            T_end = np.random.choice(np.arange(len(after_times)), replace=False)\n",
    "            T_start = before_times[T_start]\n",
    "            T_end = after_times[T_end]\n",
    "            T_sample = before_times[T_sample]\n",
    "        else: # Start-> Build -> Sampled -> End\n",
    "            T_start = np.random.choice(np.arange(len(before_times)), replace=False)\n",
    "            T_sample, T_end = sorted(np.random.choice(np.arange(len(after_times)), size=(2,), replace=False))\n",
    "            T_start = before_times[T_start]\n",
    "            T_end = after_times[T_end]\n",
    "            T_sample = after_times[T_sample]\n",
    "            \n",
    "        col_names = [f\"sentinel_{y}_{(m - 1) // 3 + 1}\" for y, m in [T_start, T_end, T_sample]]\n",
    "        image_files = row[col_names].tolist()\n",
    "        \n",
    "        images = torch.FloatTensor([rasterio.open(name).read() for name in image_files])  \n",
    "\n",
    "        if self.transform:\n",
    "            images = self.transform(images)\n",
    "            \n",
    "        img_start, img_end, img_sample = images\n",
    "            \n",
    "        return {\n",
    "            'id': int(self.image_ids[idx]),\n",
    "            'region': self.df.iloc[idx, :]['region'],\n",
    "            'year_built': year_built,\n",
    "            'label': label,\n",
    "            'image_start': img_start,\n",
    "            'year_start': T_start[0],\n",
    "            'month_start': T_start[1],\n",
    "            'image_end': img_end,\n",
    "            'year_end': T_end[0],\n",
    "            'month_end': T_end[1],\n",
    "            'image_sample': img_sample,\n",
    "            'year_sample': T_sample[0],\n",
    "            'month_sample': T_sample[1],\n",
    "        }"
   ]
  },
  {
   "cell_type": "code",
   "execution_count": 54,
   "id": "4c4ff3e3-a350-402f-b655-97b92ce6b9e7",
   "metadata": {},
   "outputs": [],
   "source": [
    "class Select(torch.nn.Module):\n",
    "    \"\"\"\n",
    "    Selects channels by index along given dimension.\n",
    "    \n",
    "    Args:\n",
    "        dim (int) - Dimension to select along\n",
    "        indices (list of int) - Indices to keep\n",
    "    \"\"\"\n",
    "    def __init__(self,\n",
    "                 dim=-3,\n",
    "                 indices=[0,1,2]):\n",
    "        super(Select, self).__init__()\n",
    "        self.dim = dim\n",
    "        self.indices = indices\n",
    "    \n",
    "    def forward(self, x):\n",
    "        x = x.transpose(0, self.dim)\n",
    "        x = x[self.indices]\n",
    "        x = x.transpose(0, self.dim)\n",
    "        return x\n",
    "   \n",
    "class CustomScale(torch.nn.Module):\n",
    "    \"\"\"\n",
    "    Applies affine transformation each value in a tensor, and applies a clamp.\n",
    "    \n",
    "    Args:\n",
    "        scale (float): Value to multiply each tensor value by\n",
    "        shift (float): Constant to add to scaled values\n",
    "        clamp (2-tuple of float or None): Lower and upper bounds to clamp to,\n",
    "            None for no clamping\n",
    "    \"\"\"\n",
    "    def __init__(self,\n",
    "                 scale=1/6400,\n",
    "                 shift=0,\n",
    "                 clamp=(0.0, 1.0)\n",
    "                ):\n",
    "        super(CustomScale, self).__init__()\n",
    "        self.scale = scale\n",
    "        self.shift = shift\n",
    "        self.clamp = clamp\n",
    "    \n",
    "    def forward(self, x):\n",
    "        return (x * self.scale + self.shift).clamp(self.clamp[0], self.clamp[1])"
   ]
  },
  {
   "cell_type": "code",
   "execution_count": 55,
   "id": "af2e4f37-9243-4fa5-a6de-85fc9864af2a",
   "metadata": {},
   "outputs": [],
   "source": [
    "SCALE = 2**16\n",
    "norm_mean=np.array([1377, 1354, 1381, 2356]) / SCALE\n",
    "norm_std=np.array([540, 398, 327, 515]) / SCALE\n",
    "    \n",
    "transformations = [\n",
    "    transforms.CenterCrop(size=(32, 32)), \n",
    "    CustomScale(scale=1/SCALE, clamp=(0, 1.0)),\n",
    "    transforms.Normalize(mean=norm_mean, std=norm_std),\n",
    "    Select(dim=-3, indices=[0,1,2]),\n",
    "]\n",
    "transform = transforms.Compose(transformations)\n",
    "\n",
    "reverse_transform = transforms.Normalize(mean=-norm_mean[:3]/norm_std[:3], std=1/norm_std[:3]/SCALE)"
   ]
  },
  {
   "cell_type": "code",
   "execution_count": 48,
   "id": "80dc907c-8ccc-4639-94ef-8158c776d2af",
   "metadata": {},
   "outputs": [],
   "source": [
    "train_set = HousingDataset(transform=transform)"
   ]
  },
  {
   "cell_type": "code",
   "execution_count": 49,
   "id": "59ac171a-0d7b-4d72-ae12-c0c972eeca7a",
   "metadata": {},
   "outputs": [],
   "source": [
    "datapoint = train_set[0]"
   ]
  },
  {
   "cell_type": "code",
   "execution_count": 50,
   "id": "c02d380e-aef0-48b9-87e4-a22968b347d6",
   "metadata": {},
   "outputs": [
    {
     "name": "stdout",
     "output_type": "stream",
     "text": [
      "Year built 2018\n",
      "Label 0\n",
      "Start 2016 7\n"
     ]
    },
    {
     "data": {
      "image/png": "[encoded data removed]",
      "text/plain": [
       "<Figure size 432x288 with 1 Axes>"
      ]
     },
     "metadata": {
      "needs_background": "light"
     },
     "output_type": "display_data"
    },
    {
     "name": "stdout",
     "output_type": "stream",
     "text": [
      "End 2019 4\n"
     ]
    },
    {
     "data": {
      "image/png": "[encoded data removed]",
      "text/plain": [
       "<Figure size 432x288 with 1 Axes>"
      ]
     },
     "metadata": {
      "needs_background": "light"
     },
     "output_type": "display_data"
    },
    {
     "name": "stdout",
     "output_type": "stream",
     "text": [
      "Sample 2016 10\n"
     ]
    },
    {
     "data": {
      "image/png": "[encoded data removed]",
      "text/plain": [
       "<Figure size 432x288 with 1 Axes>"
      ]
     },
     "metadata": {
      "needs_background": "light"
     },
     "output_type": "display_data"
    }
   ],
   "source": [
    "print(\"Year built\", datapoint['year_built'])\n",
    "print(\"Label\", datapoint['label'])\n",
    "print(\"Start\", datapoint['year_start'], datapoint['month_start'])\n",
    "show_image(reverse_transform(datapoint['image_start']))\n",
    "print(\"End\", datapoint['year_end'], datapoint['month_end'])\n",
    "show_image(reverse_transform(datapoint['image_end']))\n",
    "print(\"Sample\", datapoint['year_sample'], datapoint['month_sample'])\n",
    "show_image(reverse_transform(datapoint['image_sample']))"
   ]
  },
  {
   "cell_type": "code",
   "execution_count": 51,
   "id": "4a24c13b-42bb-4da9-acc9-cb6119518045",
   "metadata": {},
   "outputs": [],
   "source": [
    "train_loader = torch.utils.data.DataLoader(train_set, batch_size=4, shuffle=True)"
   ]
  },
  {
   "cell_type": "code",
   "execution_count": 103,
   "id": "bad4510b-fd5c-494b-abe3-24e57261b603",
   "metadata": {},
   "outputs": [],
   "source": [
    "batch = next(iter(train_loader))"
   ]
  },
  {
   "cell_type": "code",
   "execution_count": 122,
   "id": "59e5b538-e784-4f9e-af93-b1fd0ef1f108",
   "metadata": {},
   "outputs": [],
   "source": [
    "def show_batch(batch, reverse_transform=None):\n",
    "    def revert(images):\n",
    "        max_clamp = 3000\n",
    "        gamma = 1.2\n",
    "        if reverse_transform:\n",
    "            images = reverse_transform(images)\n",
    "        images = images.permute((0,2,3,1)).cpu().numpy()\n",
    "        images = np.clip(images, 0, max_clamp)\n",
    "        return (255 * (images / max_clamp)**(1/gamma)).astype(np.uint8)\n",
    "    \n",
    "    B, C, H, W = batch[\"image_start\"].shape\n",
    "    image_start = revert(batch[\"image_start\"])\n",
    "    image_end = revert(batch[\"image_end\"])\n",
    "    image_sample = revert(batch[\"image_sample\"])\n",
    "    for i in range(B):\n",
    "        print(batch[\"id\"][i].item(), batch[\"region\"][i])\n",
    "        plt.figure(figsize=(15, 5))\n",
    "        canvas = np.ones((H, W*3 + 40, C)) * 255\n",
    "        left = 0\n",
    "        canvas[:, left:left+W, :] = image_start[i]\n",
    "        x = []\n",
    "        x.append((left + W // 2, f\"Start {batch['year_start'][i]} month {batch['month_start'][i]}\"))\n",
    "        left += W+10\n",
    "        if batch[\"label\"][i] == 0:\n",
    "            canvas[:, left:left+W, :] = image_sample[i]\n",
    "            x.append((left + W // 2, f\"Sample {batch['year_sample'][i]} month {batch['month_sample'][i]}\"))\n",
    "            left += W+10\n",
    "            canvas[:, left:left+10, :] = [128,0,0]\n",
    "            x.append((left + 5, f\"Built {batch['year_built'][i]}\"))\n",
    "            left += 20\n",
    "        else:\n",
    "            canvas[:, left:left+10, :] = [128,0,0]\n",
    "            x.append((left + 5, f\"Built {batch['year_built'][i]}\"))\n",
    "            left += 20\n",
    "            canvas[:, left:left+W, :] = image_sample[i]\n",
    "            x.append((left + W // 2, f\"Sample {batch['year_sample'][i]} month {batch['month_sample'][i]}\"))\n",
    "            left += W+10\n",
    "        canvas[:, left:left+W, :] = image_end[i]\n",
    "        x.append((left + W // 2, f\"End {batch['year_end'][i]} month {batch['month_end'][i]}\"))\n",
    "        \n",
    "        xticks, xlabels = zip(*x)\n",
    "        plt.xticks(ticks=xticks, labels=xlabels, fontsize=15)\n",
    "        plt.imshow(canvas.astype(np.uint8))\n",
    "        plt.show()"
   ]
  },
  {
   "cell_type": "code",
   "execution_count": 123,
   "id": "9b6bb402-8bfd-4396-b9eb-bf3d4c0dab0f",
   "metadata": {},
   "outputs": [
    {
     "name": "stdout",
     "output_type": "stream",
     "text": [
      "2108489 austin\n"
     ]
    },
    {
     "data": {
      "image/png": "[encoded data removed]",
      "text/plain": [
       "<Figure size 1080x360 with 1 Axes>"
      ]
     },
     "metadata": {
      "needs_background": "light"
     },
     "output_type": "display_data"
    },
    {
     "name": "stdout",
     "output_type": "stream",
     "text": [
      "3912834 dallas\n"
     ]
    },
    {
     "data": {
      "image/png": "[encoded data removed]",
      "text/plain": [
       "<Figure size 1080x360 with 1 Axes>"
      ]
     },
     "metadata": {
      "needs_background": "light"
     },
     "output_type": "display_data"
    },
    {
     "name": "stdout",
     "output_type": "stream",
     "text": [
      "6442695 austin\n"
     ]
    },
    {
     "data": {
      "image/png": "[encoded data removed]",
      "text/plain": [
       "<Figure size 1080x360 with 1 Axes>"
      ]
     },
     "metadata": {
      "needs_background": "light"
     },
     "output_type": "display_data"
    },
    {
     "name": "stdout",
     "output_type": "stream",
     "text": [
      "3913300 dallas\n"
     ]
    },
    {
     "data": {
      "image/png": "[encoded data removed]",
      "text/plain": [
       "<Figure size 1080x360 with 1 Axes>"
      ]
     },
     "metadata": {
      "needs_background": "light"
     },
     "output_type": "display_data"
    }
   ],
   "source": [
    "show_batch(batch, reverse_transform)"
   ]
  },
  {
   "cell_type": "code",
   "execution_count": null,
   "id": "afaa17af-aff7-478a-8963-ad5d15df4339",
   "metadata": {},
   "outputs": [],
   "source": []
  }
 ],
 "metadata": {
  "kernelspec": {
   "display_name": "sensor",
   "language": "python",
   "name": "sensor"
  },
  "language_info": {
   "codemirror_mode": {
    "name": "ipython",
    "version": 3
   },
   "file_extension": ".py",
   "mimetype": "text/x-python",
   "name": "python",
   "nbconvert_exporter": "python",
   "pygments_lexer": "ipython3",
   "version": "3.9.7"
  }
 },
 "nbformat": 4,
 "nbformat_minor": 5
}

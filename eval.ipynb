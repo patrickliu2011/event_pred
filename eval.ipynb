{
 "cells": [
  {
   "cell_type": "code",
   "execution_count": 1,
   "id": "4cee070e-739a-4ed4-88c7-123ebad3ec26",
   "metadata": {},
   "outputs": [],
   "source": [
    "import os, sys\n",
    "import numpy as np\n",
    "import pandas as pd\n",
    "import matplotlib.pyplot as plt\n",
    "import torch\n",
    "from torch.utils.data import DataLoader\n",
    "from torch.utils.tensorboard import SummaryWriter\n",
    "import torchvision\n",
    "import torchvision.transforms as transforms\n",
    "from torchinfo import summary\n",
    "from datetime import datetime\n",
    "from tqdm import tqdm\n",
    "\n",
    "from datasets import HousingDataset\n",
    "from model import Model\n",
    "from utils import Select, CustomScale"
   ]
  },
  {
   "cell_type": "code",
   "execution_count": 2,
   "id": "447193fe-7e74-4071-9a7f-25e2d3c9db83",
   "metadata": {},
   "outputs": [
    {
     "name": "stdout",
     "output_type": "stream",
     "text": [
      "Running on device: cpu\n"
     ]
    }
   ],
   "source": [
    "device = torch.device('cuda') if torch.cuda.is_available() else torch.device('cpu')\n",
    "print(f\"Running on device: {device}\")"
   ]
  },
  {
   "cell_type": "code",
   "execution_count": 3,
   "id": "2e13aeda-7cff-4ead-b531-9561d4519b17",
   "metadata": {},
   "outputs": [],
   "source": [
    "mean=np.array([1377, 1354, 1381, 2356])\n",
    "std=np.array([540, 398, 327, 515])\n",
    "\n",
    "upperbound = mean + 3 * std\n",
    "SCALE = upperbound[:, np.newaxis, np.newaxis]\n",
    "\n",
    "norm_mean = mean / upperbound\n",
    "norm_std = std / upperbound\n",
    "    \n",
    "transformations = [\n",
    "    transforms.CenterCrop(size=(32, 32)), \n",
    "    CustomScale(scale=1/SCALE, clamp=(0, 1.0)),\n",
    "    transforms.Normalize(mean=norm_mean, std=norm_std),\n",
    "    Select(dim=-3, indices=[0,1,2]),\n",
    "]\n",
    "transform = transforms.Compose(transformations)\n",
    "\n",
    "reverse_transform = transforms.Normalize(mean=-norm_mean[:3]/norm_std[:3], std=1/norm_std[:3]/SCALE)"
   ]
  },
  {
   "cell_type": "code",
   "execution_count": 4,
   "id": "aad10a7c-a78e-486c-84f6-1e881ae38e6a",
   "metadata": {},
   "outputs": [
    {
     "name": "stdout",
     "output_type": "stream",
     "text": [
      "25071\n",
      "1411\n"
     ]
    }
   ],
   "source": [
    "train_set = HousingDataset(\"/atlas/u/erikrozi/housing_event_pred/data/train_seasonal_eff.csv\", transform=transform)\n",
    "print(len(train_set))\n",
    "val_set = HousingDataset(\"/atlas/u/erikrozi/housing_event_pred/data/val_seasonal_eff.csv\", transform=transform)\n",
    "print(len(val_set))"
   ]
  },
  {
   "cell_type": "code",
   "execution_count": 5,
   "id": "a06c0a0b-97e4-4efe-a1b2-a8f42112588e",
   "metadata": {},
   "outputs": [],
   "source": [
    "# toy_indices = list(np.random.choice(np.arange(len(train_set)), size=(100,), replace=False))\n",
    "# train_set = torch.utils.data.Subset(train_set, toy_indices)\n",
    "# val_indices = list(np.random.choice(np.arange(len(val_set)), size=(100,), replace=False))\n",
    "# val_set = torch.utils.data.Subset(val_set, val_indices)"
   ]
  },
  {
   "cell_type": "code",
   "execution_count": 6,
   "id": "74787c51-f002-414d-8471-27a05c78ebbb",
   "metadata": {},
   "outputs": [],
   "source": [
    "train_loader = torch.utils.data.DataLoader(train_set, batch_size=16, shuffle=True)\n",
    "val_loader = torch.utils.data.DataLoader(val_set, batch_size=16, shuffle=False, num_workers=8)"
   ]
  },
  {
   "cell_type": "code",
   "execution_count": 7,
   "id": "568c0047-360f-45e2-9497-9dfcb1c25055",
   "metadata": {},
   "outputs": [],
   "source": [
    "encoder = torch.nn.Sequential(\n",
    "    torch.nn.Conv2d(3,16,1,padding=1),\n",
    "    torch.nn.ReLU(),\n",
    "    torch.nn.BatchNorm2d(16),\n",
    "    torch.nn.Conv2d(16,32,1,padding=1),\n",
    "    torch.nn.ReLU(),\n",
    "    torch.nn.MaxPool2d(2),\n",
    "    torch.nn.BatchNorm2d(32),\n",
    "    torch.nn.Conv2d(32,64,1,padding=1),\n",
    "    torch.nn.ReLU(),\n",
    "    torch.nn.BatchNorm2d(64),\n",
    "    torch.nn.Conv2d(64,128,1,padding=1),\n",
    "    torch.nn.ReLU(),\n",
    "    torch.nn.MaxPool2d(2),\n",
    "    torch.nn.BatchNorm2d(128),\n",
    ").to(device=device)\n",
    "\n",
    "# torchvision.models.resnet18(pretrained=True).to(device=device)\n",
    "# encoder.layer4 = torch.nn.Identity()\n",
    "# encoder.avgpool = torch.nn.Identity()\n",
    "# encoder.fc = torch.nn.Identity()\n",
    "\n",
    "# import sys\n",
    "# sys.path.append(\"../housing_event_pred/models\")\n",
    "# import resnet_cifar\n",
    "# encoder = resnet_cifar.ResNet18(img_channels=3).to(device=device)\n",
    "# encoder.avgpool = torch.nn.Identity()\n",
    "# encoder.fc = torch.nn.Identity()"
   ]
  },
  {
   "cell_type": "code",
   "execution_count": 8,
   "id": "bb7dc242-e344-4a4a-b397-1932ef435538",
   "metadata": {},
   "outputs": [],
   "source": [
    "model = Model(encoder).to(device=device).train()"
   ]
  },
  {
   "cell_type": "markdown",
   "id": "470ecd0f-72bb-4571-a97d-cb30e1f5ba01",
   "metadata": {},
   "source": [
    "# Evaluate model"
   ]
  },
  {
   "cell_type": "code",
   "execution_count": 9,
   "id": "7d68d918-59ed-4814-a374-95d1d293f326",
   "metadata": {},
   "outputs": [
    {
     "name": "stdout",
     "output_type": "stream",
     "text": [
      "ckpt_0.pt   ckpt_11.pt  ckpt_13.pt  ckpt_2.pt  ckpt_4.pt  ckpt_6.pt  ckpt_8.pt\n",
      "ckpt_10.pt  ckpt_12.pt  ckpt_1.pt   ckpt_3.pt  ckpt_5.pt  ckpt_7.pt  ckpt_9.pt\n"
     ]
    }
   ],
   "source": [
    "%ls checkpoints/exp_2022-04-08T16:44:07Z/"
   ]
  },
  {
   "cell_type": "code",
   "execution_count": 10,
   "id": "6faad255-2f3b-499a-ac77-38cd7ad86301",
   "metadata": {},
   "outputs": [
    {
     "data": {
      "text/plain": [
       "<All keys matched successfully>"
      ]
     },
     "execution_count": 10,
     "metadata": {},
     "output_type": "execute_result"
    }
   ],
   "source": [
    "model.load_state_dict(torch.load('checkpoints/exp_2022-04-08T16:44:07Z/ckpt_13.pt', map_location=device))"
   ]
  },
  {
   "cell_type": "code",
   "execution_count": 11,
   "id": "19bbaa0b-fb21-40cf-b6fc-153430f96181",
   "metadata": {},
   "outputs": [],
   "source": [
    "def predict(model, dset, loops=1):\n",
    "    model.eval()\n",
    "    dloader = torch.utils.data.DataLoader(dset, batch_size=10, shuffle=False)\n",
    "    predictions = []\n",
    "    labels = []\n",
    "    for _ in tqdm(range(loops)):\n",
    "        for i, batch in enumerate(dloader):\n",
    "            with torch.no_grad():\n",
    "                img_start = batch[\"image_start\"].to(device=device).float()\n",
    "                img_end = batch[\"image_end\"].to(device=device).float()\n",
    "                img_sample = batch[\"image_sample\"].to(device=device).float()\n",
    "                label = batch[\"label\"].float().to(device=device)\n",
    "\n",
    "                pred = model(img_start, img_end, img_sample).flatten()\n",
    "                predictions.append(pred.detach().cpu().numpy())\n",
    "                labels.append(label.flatten().cpu().numpy())\n",
    "    return np.concatenate(predictions), np.concatenate(labels).astype(int)"
   ]
  },
  {
   "cell_type": "code",
   "execution_count": null,
   "id": "61cd4af6-ecde-4773-b034-20c9290138c7",
   "metadata": {},
   "outputs": [
    {
     "name": "stderr",
     "output_type": "stream",
     "text": [
      "  0%|                                                    | 0/10 [03:25<?, ?it/s]\n"
     ]
    }
   ],
   "source": [
    "predictions, labels = predict(model, val_set, loops=10)"
   ]
  },
  {
   "cell_type": "code",
   "execution_count": null,
   "id": "7b20ad48-209b-4dce-af1d-3faa0b4c7e79",
   "metadata": {},
   "outputs": [],
   "source": [
    "predictions = (predictions > 0.5)\n",
    "accurate = np.sum(labels == predictions)\n",
    "total = len(labels)\n",
    "print(f\"Accuracy {accurate} / {total} = {accurate/total}\")"
   ]
  },
  {
   "cell_type": "code",
   "execution_count": null,
   "id": "980bb7b7-2539-4bfb-911a-a359c9fe331d",
   "metadata": {},
   "outputs": [],
   "source": [
    "from sklearn.metrics import classification_report\n",
    "print(classification_report(labels, predictions))"
   ]
  },
  {
   "cell_type": "code",
   "execution_count": null,
   "id": "ddc95358-93fc-4eb8-8d84-a3f44b93b0cf",
   "metadata": {},
   "outputs": [],
   "source": []
  }
 ],
 "metadata": {
  "kernelspec": {
   "display_name": "sensor",
   "language": "python",
   "name": "sensor"
  },
  "language_info": {
   "codemirror_mode": {
    "name": "ipython",
    "version": 3
   },
   "file_extension": ".py",
   "mimetype": "text/x-python",
   "name": "python",
   "nbconvert_exporter": "python",
   "pygments_lexer": "ipython3",
   "version": "3.9.7"
  }
 },
 "nbformat": 4,
 "nbformat_minor": 5
}

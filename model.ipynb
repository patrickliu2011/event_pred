{
 "cells": [
  {
   "cell_type": "code",
   "execution_count": 33,
   "id": "3838a82e-acb8-4f56-87c9-a2c25ad2fc79",
   "metadata": {},
   "outputs": [],
   "source": [
    "import os, sys\n",
    "import numpy as np\n",
    "import pandas as pd\n",
    "import matplotlib.pyplot as plt\n",
    "import torch\n",
    "from torch.utils.data import DataLoader\n",
    "import torchvision\n",
    "import torchvision.transforms as transforms\n",
    "from torchinfo import summary\n",
    "\n",
    "from datasets import HousingDataset\n",
    "from utils import Select, CustomScale"
   ]
  },
  {
   "cell_type": "code",
   "execution_count": 34,
   "id": "3684e3d0-2f8e-42f1-b2fe-5e647cd72410",
   "metadata": {},
   "outputs": [
    {
     "name": "stdout",
     "output_type": "stream",
     "text": [
      "Running on device: cpu\n"
     ]
    }
   ],
   "source": [
    "device = torch.device('cuda') if torch.cuda.is_available() else torch.device('cpu')\n",
    "print(f\"Running on device: {device}\")"
   ]
  },
  {
   "cell_type": "code",
   "execution_count": 35,
   "id": "5ed030de-bb55-4e5c-9b4d-6209fc774e7b",
   "metadata": {},
   "outputs": [],
   "source": [
    "mean=np.array([1377, 1354, 1381, 2356])\n",
    "std=np.array([540, 398, 327, 515])\n",
    "\n",
    "upperbound = mean + 3 * std\n",
    "SCALE = upperbound[:, np.newaxis, np.newaxis]\n",
    "\n",
    "norm_mean = mean / upperbound\n",
    "norm_std = std / upperbound\n",
    "    \n",
    "transformations = [\n",
    "    transforms.CenterCrop(size=(32, 32)), \n",
    "    CustomScale(scale=1/SCALE, clamp=(0, 1.0)),\n",
    "    transforms.Normalize(mean=norm_mean, std=norm_std),\n",
    "    Select(dim=-3, indices=[0,1,2]),\n",
    "]\n",
    "transform = transforms.Compose(transformations)\n",
    "\n",
    "reverse_transform = transforms.Compose([\n",
    "    transforms.Normalize(mean=-norm_mean[:3]/norm_std[:3], std=1/norm_std[:3]), \n",
    "    CustomScale(scale=SCALE[:3], clamp=None),\n",
    "])"
   ]
  },
  {
   "cell_type": "code",
   "execution_count": 36,
   "id": "89a66ef7-2997-409b-a3f6-f4ab6c4ae3af",
   "metadata": {},
   "outputs": [],
   "source": [
    "train_set = HousingDataset(transform=transform)"
   ]
  },
  {
   "cell_type": "code",
   "execution_count": 37,
   "id": "ae8fc044-9f5e-4d6f-b4ca-4c75c7b16a67",
   "metadata": {},
   "outputs": [],
   "source": [
    "train_loader = torch.utils.data.DataLoader(train_set, batch_size=4, shuffle=True)"
   ]
  },
  {
   "cell_type": "code",
   "execution_count": 38,
   "id": "76505eb6-f536-4378-bbe3-640a1f683d70",
   "metadata": {},
   "outputs": [],
   "source": [
    "batch = next(iter(train_loader))"
   ]
  },
  {
   "cell_type": "code",
   "execution_count": 23,
   "id": "40963c0e-ef52-4d79-9e48-16eaf6962f72",
   "metadata": {},
   "outputs": [],
   "source": [
    "encoder = torchvision.models.resnet18(pretrained=True).to(device=device)\n",
    "encoder.layer4 = torch.nn.Identity()\n",
    "encoder.avgpool = torch.nn.Identity()\n",
    "encoder.fc = torch.nn.Identity()"
   ]
  },
  {
   "cell_type": "code",
   "execution_count": 24,
   "id": "491406f1-d64d-4d47-93ba-4612df8abe77",
   "metadata": {},
   "outputs": [
    {
     "data": {
      "text/plain": [
       "==========================================================================================\n",
       "Layer (type:depth-idx)                   Output Shape              Param #\n",
       "==========================================================================================\n",
       "ResNet                                   --                        --\n",
       "├─Conv2d: 1-1                            [4, 64, 16, 16]           9,408\n",
       "├─BatchNorm2d: 1-2                       [4, 64, 16, 16]           128\n",
       "├─ReLU: 1-3                              [4, 64, 16, 16]           --\n",
       "├─MaxPool2d: 1-4                         [4, 64, 8, 8]             --\n",
       "├─Sequential: 1-5                        [4, 64, 8, 8]             --\n",
       "│    └─BasicBlock: 2-1                   [4, 64, 8, 8]             --\n",
       "│    │    └─Conv2d: 3-1                  [4, 64, 8, 8]             36,864\n",
       "│    │    └─BatchNorm2d: 3-2             [4, 64, 8, 8]             128\n",
       "│    │    └─ReLU: 3-3                    [4, 64, 8, 8]             --\n",
       "│    │    └─Conv2d: 3-4                  [4, 64, 8, 8]             36,864\n",
       "│    │    └─BatchNorm2d: 3-5             [4, 64, 8, 8]             128\n",
       "│    │    └─ReLU: 3-6                    [4, 64, 8, 8]             --\n",
       "│    └─BasicBlock: 2-2                   [4, 64, 8, 8]             --\n",
       "│    │    └─Conv2d: 3-7                  [4, 64, 8, 8]             36,864\n",
       "│    │    └─BatchNorm2d: 3-8             [4, 64, 8, 8]             128\n",
       "│    │    └─ReLU: 3-9                    [4, 64, 8, 8]             --\n",
       "│    │    └─Conv2d: 3-10                 [4, 64, 8, 8]             36,864\n",
       "│    │    └─BatchNorm2d: 3-11            [4, 64, 8, 8]             128\n",
       "│    │    └─ReLU: 3-12                   [4, 64, 8, 8]             --\n",
       "├─Sequential: 1-6                        [4, 128, 4, 4]            --\n",
       "│    └─BasicBlock: 2-3                   [4, 128, 4, 4]            --\n",
       "│    │    └─Conv2d: 3-13                 [4, 128, 4, 4]            73,728\n",
       "│    │    └─BatchNorm2d: 3-14            [4, 128, 4, 4]            256\n",
       "│    │    └─ReLU: 3-15                   [4, 128, 4, 4]            --\n",
       "│    │    └─Conv2d: 3-16                 [4, 128, 4, 4]            147,456\n",
       "│    │    └─BatchNorm2d: 3-17            [4, 128, 4, 4]            256\n",
       "│    │    └─Sequential: 3-18             [4, 128, 4, 4]            8,448\n",
       "│    │    └─ReLU: 3-19                   [4, 128, 4, 4]            --\n",
       "│    └─BasicBlock: 2-4                   [4, 128, 4, 4]            --\n",
       "│    │    └─Conv2d: 3-20                 [4, 128, 4, 4]            147,456\n",
       "│    │    └─BatchNorm2d: 3-21            [4, 128, 4, 4]            256\n",
       "│    │    └─ReLU: 3-22                   [4, 128, 4, 4]            --\n",
       "│    │    └─Conv2d: 3-23                 [4, 128, 4, 4]            147,456\n",
       "│    │    └─BatchNorm2d: 3-24            [4, 128, 4, 4]            256\n",
       "│    │    └─ReLU: 3-25                   [4, 128, 4, 4]            --\n",
       "├─Sequential: 1-7                        [4, 256, 2, 2]            --\n",
       "│    └─BasicBlock: 2-5                   [4, 256, 2, 2]            --\n",
       "│    │    └─Conv2d: 3-26                 [4, 256, 2, 2]            294,912\n",
       "│    │    └─BatchNorm2d: 3-27            [4, 256, 2, 2]            512\n",
       "│    │    └─ReLU: 3-28                   [4, 256, 2, 2]            --\n",
       "│    │    └─Conv2d: 3-29                 [4, 256, 2, 2]            589,824\n",
       "│    │    └─BatchNorm2d: 3-30            [4, 256, 2, 2]            512\n",
       "│    │    └─Sequential: 3-31             [4, 256, 2, 2]            33,280\n",
       "│    │    └─ReLU: 3-32                   [4, 256, 2, 2]            --\n",
       "│    └─BasicBlock: 2-6                   [4, 256, 2, 2]            --\n",
       "│    │    └─Conv2d: 3-33                 [4, 256, 2, 2]            589,824\n",
       "│    │    └─BatchNorm2d: 3-34            [4, 256, 2, 2]            512\n",
       "│    │    └─ReLU: 3-35                   [4, 256, 2, 2]            --\n",
       "│    │    └─Conv2d: 3-36                 [4, 256, 2, 2]            589,824\n",
       "│    │    └─BatchNorm2d: 3-37            [4, 256, 2, 2]            512\n",
       "│    │    └─ReLU: 3-38                   [4, 256, 2, 2]            --\n",
       "├─Identity: 1-8                          [4, 256, 2, 2]            --\n",
       "├─Identity: 1-9                          [4, 256, 2, 2]            --\n",
       "├─Identity: 1-10                         [4, 1024]                 --\n",
       "==========================================================================================\n",
       "Total params: 2,782,784\n",
       "Trainable params: 2,782,784\n",
       "Non-trainable params: 0\n",
       "Total mult-adds (M): 114.51\n",
       "==========================================================================================\n",
       "Input size (MB): 0.05\n",
       "Forward/backward pass size (MB): 3.08\n",
       "Params size (MB): 11.13\n",
       "Estimated Total Size (MB): 14.26\n",
       "=========================================================================================="
      ]
     },
     "execution_count": 24,
     "metadata": {},
     "output_type": "execute_result"
    }
   ],
   "source": [
    "summary(encoder, input_size=(4, 3, 32, 32))"
   ]
  },
  {
   "cell_type": "code",
   "execution_count": 25,
   "id": "89667b3a-0457-467b-af42-059ccdad700a",
   "metadata": {},
   "outputs": [],
   "source": [
    "class Model(torch.nn.Module):\n",
    "    def __init__(self, encoder, input_shape=(1,3,32,32), proj_features=256):\n",
    "        super().__init__()\n",
    "        self.encoder = encoder\n",
    "\n",
    "        dummy_input = torch.zeros(input_shape)\n",
    "        output_shape = self.encoder(dummy_input).shape\n",
    "        \n",
    "        in_features = np.prod(output_shape[1:])\n",
    "        self.start_proj = torch.nn.Sequential(\n",
    "            torch.nn.Linear(in_features, proj_features),\n",
    "            torch.nn.ReLU()\n",
    "        )\n",
    "        self.end_proj = torch.nn.Sequential(\n",
    "            torch.nn.Linear(in_features, proj_features),\n",
    "            torch.nn.ReLU()\n",
    "        )\n",
    "        self.sample_proj = torch.nn.Sequential(\n",
    "            torch.nn.Linear(in_features, proj_features),\n",
    "            torch.nn.ReLU()\n",
    "        )\n",
    "        self.clf = torch.nn.Sequential(\n",
    "            torch.nn.Linear(3 * proj_features, 128),\n",
    "            torch.nn.ReLU(),\n",
    "            torch.nn.Linear(128, 1),\n",
    "        )\n",
    "        \n",
    "    def forward(self, img_start, img_end, img_sample):\n",
    "        \"\"\"\n",
    "        Input:\n",
    "            x (FloatTensor) - Batch of input images of shape (B, length, C, H, W)\n",
    "        Output:\n",
    "            FloatTensor of shape (B, num_classes)\n",
    "        \"\"\"\n",
    "        B = img_start.shape[0]\n",
    "        images = torch.cat([img_start, img_end, img_sample], dim=0)\n",
    "        x_start, x_end, x_sample = self.encoder(images).flatten().reshape((3, B, -1))\n",
    "        x_start = self.start_proj(x_start)\n",
    "        x_end = self.end_proj(x_end)\n",
    "        x_sample = self.sample_proj(x_sample)\n",
    "        x = torch.cat([x_start, x_end, x_sample], dim=-1)\n",
    "        x = self.clf(x)\n",
    "        x = torch.sigmoid(x)\n",
    "        return x"
   ]
  },
  {
   "cell_type": "code",
   "execution_count": 29,
   "id": "53c171e0-95b3-46c8-9867-6e40a45bbbed",
   "metadata": {},
   "outputs": [],
   "source": [
    "model = Model(encoder)"
   ]
  },
  {
   "cell_type": "code",
   "execution_count": 31,
   "id": "01f14482-5a2d-4a9d-b13a-70f5725c59b3",
   "metadata": {},
   "outputs": [
    {
     "data": {
      "text/plain": [
       "===============================================================================================\n",
       "Layer (type:depth-idx)                        Output Shape              Param #\n",
       "===============================================================================================\n",
       "Model                                         --                        --\n",
       "├─ResNet: 1-1                                 [12, 1024]                --\n",
       "│    └─Conv2d: 2-1                            [12, 64, 16, 16]          9,408\n",
       "│    └─BatchNorm2d: 2-2                       [12, 64, 16, 16]          128\n",
       "│    └─ReLU: 2-3                              [12, 64, 16, 16]          --\n",
       "│    └─MaxPool2d: 2-4                         [12, 64, 8, 8]            --\n",
       "│    └─Sequential: 2-5                        [12, 64, 8, 8]            --\n",
       "│    │    └─BasicBlock: 3-1                   [12, 64, 8, 8]            73,984\n",
       "│    │    └─BasicBlock: 3-2                   [12, 64, 8, 8]            73,984\n",
       "│    └─Sequential: 2-6                        [12, 128, 4, 4]           --\n",
       "│    │    └─BasicBlock: 3-3                   [12, 128, 4, 4]           230,144\n",
       "│    │    └─BasicBlock: 3-4                   [12, 128, 4, 4]           295,424\n",
       "│    └─Sequential: 2-7                        [12, 256, 2, 2]           --\n",
       "│    │    └─BasicBlock: 3-5                   [12, 256, 2, 2]           919,040\n",
       "│    │    └─BasicBlock: 3-6                   [12, 256, 2, 2]           1,180,672\n",
       "│    └─Identity: 2-8                          [12, 256, 2, 2]           --\n",
       "│    └─Identity: 2-9                          [12, 256, 2, 2]           --\n",
       "│    └─Identity: 2-10                         [12, 1024]                --\n",
       "├─Sequential: 1-2                             [4, 256]                  --\n",
       "│    └─Linear: 2-11                           [4, 256]                  262,400\n",
       "│    └─ReLU: 2-12                             [4, 256]                  --\n",
       "├─Sequential: 1-3                             [4, 256]                  --\n",
       "│    └─Linear: 2-13                           [4, 256]                  262,400\n",
       "│    └─ReLU: 2-14                             [4, 256]                  --\n",
       "├─Sequential: 1-4                             [4, 256]                  --\n",
       "│    └─Linear: 2-15                           [4, 256]                  262,400\n",
       "│    └─ReLU: 2-16                             [4, 256]                  --\n",
       "├─Sequential: 1-5                             [4, 1]                    --\n",
       "│    └─Linear: 2-17                           [4, 128]                  98,432\n",
       "│    └─ReLU: 2-18                             [4, 128]                  --\n",
       "│    └─Linear: 2-19                           [4, 1]                    129\n",
       "===============================================================================================\n",
       "Total params: 3,668,545\n",
       "Trainable params: 3,668,545\n",
       "Non-trainable params: 0\n",
       "Total mult-adds (M): 347.07\n",
       "===============================================================================================\n",
       "Input size (MB): 0.15\n",
       "Forward/backward pass size (MB): 9.27\n",
       "Params size (MB): 14.67\n",
       "Estimated Total Size (MB): 24.09\n",
       "==============================================================================================="
      ]
     },
     "execution_count": 31,
     "metadata": {},
     "output_type": "execute_result"
    }
   ],
   "source": [
    "summary(model, [(4, 3, 32, 32), (4, 3, 32, 32), (4, 3, 32, 32)])"
   ]
  },
  {
   "cell_type": "code",
   "execution_count": 32,
   "id": "631e856b-d2a8-4a37-8825-0bcac2d24f17",
   "metadata": {},
   "outputs": [
    {
     "data": {
      "text/plain": [
       "tensor([[0.4980],\n",
       "        [0.4915],\n",
       "        [0.4846],\n",
       "        [0.4956]], grad_fn=<SigmoidBackward0>)"
      ]
     },
     "execution_count": 32,
     "metadata": {},
     "output_type": "execute_result"
    }
   ],
   "source": [
    "model(batch[\"image_start\"], batch[\"image_end\"], batch[\"image_sample\"])"
   ]
  },
  {
   "cell_type": "code",
   "execution_count": null,
   "id": "7c75cb5f-ffb6-4632-aa38-9b2d848387cf",
   "metadata": {},
   "outputs": [],
   "source": []
  }
 ],
 "metadata": {
  "kernelspec": {
   "display_name": "sensor",
   "language": "python",
   "name": "sensor"
  },
  "language_info": {
   "codemirror_mode": {
    "name": "ipython",
    "version": 3
   },
   "file_extension": ".py",
   "mimetype": "text/x-python",
   "name": "python",
   "nbconvert_exporter": "python",
   "pygments_lexer": "ipython3",
   "version": "3.9.7"
  }
 },
 "nbformat": 4,
 "nbformat_minor": 5
}
